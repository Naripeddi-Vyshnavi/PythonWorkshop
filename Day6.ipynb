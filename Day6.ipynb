{
 "cells": [
  {
   "cell_type": "markdown",
   "metadata": {},
   "source": [
    "### topics\n",
    "- oops\n",
    "- regular expressions\n",
    "- files\n",
    "- matplotib"
   ]
  },
  {
   "cell_type": "code",
   "execution_count": null,
   "metadata": {},
   "outputs": [],
   "source": [
    "# object oriented programming\n",
    "# object:instance of class\n",
    "        -it is having properties(var) and actions(methods)\n",
    "# class:collection of variables and methods"
   ]
  },
  {
   "cell_type": "code",
   "execution_count": null,
   "metadata": {},
   "outputs": [],
   "source": [
    "#creating a class\n",
    "class classname:\n",
    "    #variablew\n",
    "    #methods\n",
    "# declaring a class\n",
    "def"
   ]
  },
  {
   "cell_type": "code",
   "execution_count": 1,
   "metadata": {},
   "outputs": [],
   "source": [
    "class Student:\n",
    "        pass #if we dont want to insert  arguments"
   ]
  },
  {
   "cell_type": "code",
   "execution_count": null,
   "metadata": {},
   "outputs": [],
   "source": [
    "#creating object\n",
    "#syntax : var = classname()"
   ]
  },
  {
   "cell_type": "code",
   "execution_count": 2,
   "metadata": {},
   "outputs": [],
   "source": [
    "s = Student"
   ]
  },
  {
   "cell_type": "code",
   "execution_count": 5,
   "metadata": {},
   "outputs": [],
   "source": [
    "class Student:\n",
    "    x = 10\n",
    "    y = 10 #accesing by class name"
   ]
  },
  {
   "cell_type": "code",
   "execution_count": 6,
   "metadata": {},
   "outputs": [
    {
     "data": {
      "text/plain": [
       "10"
      ]
     },
     "execution_count": 6,
     "metadata": {},
     "output_type": "execute_result"
    }
   ],
   "source": [
    "Student().x"
   ]
  },
  {
   "cell_type": "code",
   "execution_count": null,
   "metadata": {},
   "outputs": [],
   "source": [
    "#another way by creating a object"
   ]
  },
  {
   "cell_type": "code",
   "execution_count": 7,
   "metadata": {},
   "outputs": [
    {
     "data": {
      "text/plain": [
       "10"
      ]
     },
     "execution_count": 7,
     "metadata": {},
     "output_type": "execute_result"
    }
   ],
   "source": [
    "class Student:\n",
    "    x = 10\n",
    "    y = 10\n",
    "s = Student()\n",
    "s.x"
   ]
  },
  {
   "cell_type": "code",
   "execution_count": 8,
   "metadata": {},
   "outputs": [
    {
     "data": {
      "text/plain": [
       "10"
      ]
     },
     "execution_count": 8,
     "metadata": {},
     "output_type": "execute_result"
    }
   ],
   "source": [
    "s.y"
   ]
  },
  {
   "cell_type": "code",
   "execution_count": null,
   "metadata": {},
   "outputs": [],
   "source": [
    "# creating a method"
   ]
  },
  {
   "cell_type": "code",
   "execution_count": 17,
   "metadata": {},
   "outputs": [
    {
     "name": "stdout",
     "output_type": "stream",
     "text": [
      "enter the name of the student: vyshu\n",
      "hello vyshu\n"
     ]
    }
   ],
   "source": [
    "class Student:\n",
    "    x = 10\n",
    "    y = 10\n",
    "    def display(self): #this keyword represents the default arg\n",
    "        name = input(\"enter the name of the student: \")\n",
    "        print(\"hello\",name)\n",
    "Student().x\n",
    "Student().y\n",
    "s = Student()\n",
    "s.x\n",
    "s.display()"
   ]
  },
  {
   "cell_type": "markdown",
   "metadata": {},
   "source": [
    "# constructors"
   ]
  },
  {
   "cell_type": "code",
   "execution_count": null,
   "metadata": {},
   "outputs": [],
   "source": [
    "# diff bw constructor and method\n",
    "- at the time of \n",
    "- by using object method will execute"
   ]
  },
  {
   "cell_type": "code",
   "execution_count": null,
   "metadata": {},
   "outputs": [],
   "source": [
    "# creating a constructor\n",
    "# syntax:\n",
    "__init__(self):\n",
    "    #statements #to declare instance variables and instance methods we use constuctors\n",
    "    "
   ]
  },
  {
   "cell_type": "code",
   "execution_count": 25,
   "metadata": {},
   "outputs": [
    {
     "name": "stdout",
     "output_type": "stream",
     "text": [
      "this is constuctor\n",
      "hello 2 year having 3 sections\n"
     ]
    }
   ],
   "source": [
    "class cse:\n",
    "        sections=3\n",
    "        year=2\n",
    "        def __init__(self):\n",
    "            print(\"this is constuctor\")\n",
    "        def details(self):\n",
    "            print(\"hello {} year having {} sections\".format(cse.year,cse.sections))\n",
    "c = cse() #when we create object constructor is executed  defaultly\n",
    "c.details()"
   ]
  },
  {
   "cell_type": "code",
   "execution_count": 28,
   "metadata": {},
   "outputs": [
    {
     "name": "stdout",
     "output_type": "stream",
     "text": [
      "this is constuctor\n"
     ]
    }
   ],
   "source": [
    "class cse:\n",
    "    def __init__(self,sections,year):\n",
    "        print(\"this is constuctor\")\n",
    "        self.sections=sections\n",
    "        self.year=year\n",
    "    def details(self):\n",
    "        print(\"hello {} year having {} sections\".format(cse.year,cse.sections))\n",
    "c = cse(3,2)#when we create object constructor is executed  defaultly"
   ]
  },
  {
   "cell_type": "markdown",
   "metadata": {},
   "source": [
    "# by using 3 mechanisms we declare it is a opps program or not\n",
    "## 1.inheritance - getting the properties form parent class to child class\n",
    "## 2.polymorphism - many forms\n",
    "## 3.abstraction - abstracting the predefined class\n",
    "- method overloading - same method name same parameters\n",
    "- method overriding - same method name and arguments in the same class"
   ]
  },
  {
   "cell_type": "code",
   "execution_count": null,
   "metadata": {},
   "outputs": [],
   "source": [
    "## inheritance\n",
    "## Has - A relation"
   ]
  },
  {
   "cell_type": "code",
   "execution_count": 39,
   "metadata": {},
   "outputs": [
    {
     "name": "stdout",
     "output_type": "stream",
     "text": [
      "10\n",
      "20\n",
      "30\n",
      "parent method...\n",
      "None\n"
     ]
    }
   ],
   "source": [
    "class parent:\n",
    "    x = 10\n",
    "    y = 20\n",
    "    def m1(self):\n",
    "        print(\"parent method...\")\n",
    "class child:\n",
    "    z = 30\n",
    "    def __init__(self):\n",
    "        self.parent = parent()\n",
    "    def m2(self):\n",
    "        print(self.parent.x)\n",
    "        print(self.parent.y)\n",
    "        print(child().z)\n",
    "        print(self.parent.m1())\n",
    "c = child()\n",
    "c.m2()"
   ]
  },
  {
   "cell_type": "code",
   "execution_count": 46,
   "metadata": {},
   "outputs": [
    {
     "name": "stdout",
     "output_type": "stream",
     "text": [
      "class A method\n"
     ]
    }
   ],
   "source": [
    "#Is - a relation\n",
    "class A:\n",
    "    x = 20\n",
    "    y = 20\n",
    "    def m1(self):\n",
    "        print(\"class A method\")\n",
    "class B(A):\n",
    "    z = 30\n",
    "    def m2(self):\n",
    "        print(\"class B method................................................................\")\n",
    "obj = B()\n",
    "obj.m1()"
   ]
  },
  {
   "cell_type": "markdown",
   "metadata": {},
   "source": [
    "# Multilevel inheritance"
   ]
  },
  {
   "cell_type": "code",
   "execution_count": 49,
   "metadata": {},
   "outputs": [
    {
     "name": "stdout",
     "output_type": "stream",
     "text": [
      "hello vyshu welcome to btech\n",
      "hello sree welcome to btech\n",
      "hello vyshu welcome to btech\n"
     ]
    }
   ],
   "source": [
    "class parent:\n",
    "    name = \"vyshu\"\n",
    "    course = \"btech\"\n",
    "    def m1(self):\n",
    "        print(\"hello\",parent.name,\"welcome to\",parent.course)\n",
    "class child(parent):\n",
    "    name1 = \"sree\"\n",
    "    course = \"btech\"\n",
    "    def m2(self):\n",
    "        print(\"hello\",child.name1,\"welcome to\",child.course)\n",
    "class subchild(child):\n",
    "    name2 = \"kathi\"\n",
    "    course = \"btech\"\n",
    "    def m3(self):\n",
    "        print(\"hello\",subchild.name,\"welcome to\",subchild.course)\n",
    "obj = subchild()\n",
    "obj.m1()\n",
    "obj.m2()\n",
    "obj.m3()"
   ]
  },
  {
   "cell_type": "code",
   "execution_count": null,
   "metadata": {},
   "outputs": [],
   "source": []
  },
  {
   "cell_type": "code",
   "execution_count": null,
   "metadata": {},
   "outputs": [],
   "source": []
  },
  {
   "cell_type": "code",
   "execution_count": null,
   "metadata": {},
   "outputs": [],
   "source": []
  },
  {
   "cell_type": "code",
   "execution_count": null,
   "metadata": {},
   "outputs": [],
   "source": []
  },
  {
   "cell_type": "code",
   "execution_count": null,
   "metadata": {},
   "outputs": [],
   "source": []
  },
  {
   "cell_type": "code",
   "execution_count": null,
   "metadata": {},
   "outputs": [],
   "source": []
  },
  {
   "cell_type": "code",
   "execution_count": null,
   "metadata": {},
   "outputs": [],
   "source": []
  }
 ],
 "metadata": {
  "kernelspec": {
   "display_name": "Python 3",
   "language": "python",
   "name": "python3"
  },
  "language_info": {
   "codemirror_mode": {
    "name": "ipython",
    "version": 3
   },
   "file_extension": ".py",
   "mimetype": "text/x-python",
   "name": "python",
   "nbconvert_exporter": "python",
   "pygments_lexer": "ipython3",
   "version": "3.8.5"
  }
 },
 "nbformat": 4,
 "nbformat_minor": 4
}
